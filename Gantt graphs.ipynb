{
 "cells": [
  {
   "cell_type": "code",
   "execution_count": 29,
   "metadata": {},
   "outputs": [],
   "source": [
    "\n",
    "import matplotlib.pyplot as plt\n",
    "import numpy as np\n",
    "from matplotlib.cm import get_cmap\n",
    "from matplotlib.ticker import MultipleLocator\n",
    "from task import Task\n",
    "#from ftp_rm_scheduling import get_ftp_rm_schedule\n",
    "\n",
    "# TODO clean this ugly code\n",
    "# TODO use a schedules object\n",
    "def gantt_of_schedule(sys_schedules, time_limit , filename=\"gant_diagram.png\"):\n",
    "    \"\"\"Save a png of the gant diagram of the given schedule\n",
    "\n",
    "    Args:\n",
    "        schedules (array): the schedule to draw\n",
    "        time_limit ([type]): the time limit of the graph\n",
    "    \"\"\"\n",
    "    TASKS_HEIGHT = 1\n",
    "    # Declaring a figure \"gnt\"\n",
    "    fig, gnt = plt.subplots()\n",
    "    # Setting Y-axis limits\n",
    "    schedules = sys_schedules.get_array_of_schedules()\n",
    "    gnt.set_ylim(0, len(schedules)*2 )\n",
    "    #TASKS_HEIGHT /= 1.2\n",
    " \n",
    "    # Setting X-axis limits\n",
    "    #gnt.set_xlim(0, time_limit)\n",
    "    gnt.set_xlim(0, sys_schedules.feasibility_interval)\n",
    "    name = \"tab10\"\n",
    "    cmap = get_cmap(name)  # type: matplotlib.colors.ListedColormap\n",
    "    colors = cmap.colors  # type: list\n",
    "    gnt.set_prop_cycle(color=colors)\n",
    "    # Setting labels for x-axis and y-axis\n",
    "    gnt.set_xlabel('CPU Moments')\n",
    "    gnt.set_ylabel('Tasks')\n",
    "    \n",
    "    #add periods of T1\n",
    "    period_of_t1 = sys_schedules.tasks[0].period\n",
    "    for i in range(0, sys_schedules.feasibility_interval, period_of_t1):\n",
    "        \n",
    "        # max = 1 - ((tache_index) * (1/task_len))\n",
    "        # min = max - 1/task_len\n",
    "        #\n",
    "        tasks_len = len(sys_schedules.tasks)\n",
    "        frac = 1/tasks_len\n",
    "        tache_index = 0\n",
    "        bidule = tasks_len - tache_index\n",
    "        max_i = 1 - ((tache_index) * (1/tasks_len))\n",
    "        min_i = max_i - 1/tasks_len\n",
    "        gnt.axvline(x = i, ymin = min_i, ymax = max_i,\n",
    "            color ='red')\n",
    "    \n",
    "    #should update\n",
    "    ticks = []\n",
    "    labels = []\n",
    "    for i in range(len(schedules)):\n",
    "        ticks.append(((i)*2))\n",
    "        labels.append(i+1)\n",
    "    # Setting ticks on y-axis\n",
    "    #major_ticks = np.arange(0, time_limit, 5)\n",
    "    minor_ticks = np.arange(0, time_limit, 1)\n",
    "    #gnt.set_xticks(minor_ticks, )\n",
    "    #gnt.set_xticks(major_ticks)\n",
    "    #gnt.tick_params(which='minor', length=1)\n",
    "    gnt.xaxis.set_minor_locator(MultipleLocator(1))\n",
    "\n",
    "    # Initialize minor ticks\n",
    "    #gnt.minorticks_on()\n",
    "\n",
    "# Now minor ticks exist and are turned on for both axes\n",
    "\n",
    "# Turn off x-axis minor ticks\n",
    "    #gnt.yaxis.set_tick_params(which='minor', bottom=False)\n",
    "    \n",
    "    gnt.set_yticks(ticks)\n",
    "    # Labelling tickes of y-axis\n",
    "    gnt.set_yticklabels(labels)\n",
    "    # Setting graph attribute\n",
    "    gnt.grid(True)\n",
    "    #plt.style.use('classic')\n",
    "    #after\n",
    "    for i, schedule in enumerate(reversed(schedules)):\n",
    "        print(schedule)\n",
    "        gnt.broken_barh(schedule, (i*2,  1), facecolors=colors[i])\n",
    "\n",
    "    #before\n",
    "    \"\"\"\n",
    "    for i, schedule in enumerate(reversed(schedules)):\n",
    "        #for j, task in enumerate(schedule):\n",
    "        T = []\n",
    "        for j, job in enumerate(schedule):\n",
    "            tup = (job.start, job.nb_cpu_units)\n",
    "            T.append(tup)\n",
    "        gnt.broken_barh(T, (i*2,  1), facecolors=colors[i])\n",
    "    \"\"\"\n",
    "    #plt.savefig(filename)\n",
    "    return plt\n",
    "    \n"
   ]
  },
  {
   "cell_type": "code",
   "execution_count": 30,
   "metadata": {},
   "outputs": [],
   "source": [
    "from scheduling import get_scheduling_course_first_exemple\n",
    "from scheduling import get_scheduling_course_second_exemple\n",
    "\n",
    "def ultimate_test():\n",
    "    schedules = get_scheduling_course_first_exemple()\n",
    "    #arr = schedules.get_array_of_schedules()\n",
    "    gantt_of_schedule(schedules, 26, \"second_course_example.png\")"
   ]
  },
  {
   "cell_type": "code",
   "execution_count": 31,
   "metadata": {},
   "outputs": [
    {
     "ename": "TypeError",
     "evalue": "unsupported operand type(s) for -: 'builtin_function_or_method' and 'float'",
     "output_type": "error",
     "traceback": [
      "\u001b[1;31m---------------------------------------------------------------------------\u001b[0m",
      "\u001b[1;31mTypeError\u001b[0m                                 Traceback (most recent call last)",
      "\u001b[1;32m<ipython-input-31-aa0b803db341>\u001b[0m in \u001b[0;36m<module>\u001b[1;34m\u001b[0m\n\u001b[1;32m----> 1\u001b[1;33m \u001b[0multimate_test\u001b[0m\u001b[1;33m(\u001b[0m\u001b[1;33m)\u001b[0m\u001b[1;33m\u001b[0m\u001b[1;33m\u001b[0m\u001b[0m\n\u001b[0m",
      "\u001b[1;32m<ipython-input-30-c8f3fefd024a>\u001b[0m in \u001b[0;36multimate_test\u001b[1;34m()\u001b[0m\n\u001b[0;32m      5\u001b[0m     \u001b[0mschedules\u001b[0m \u001b[1;33m=\u001b[0m \u001b[0mget_scheduling_course_first_exemple\u001b[0m\u001b[1;33m(\u001b[0m\u001b[1;33m)\u001b[0m\u001b[1;33m\u001b[0m\u001b[1;33m\u001b[0m\u001b[0m\n\u001b[0;32m      6\u001b[0m     \u001b[1;31m#arr = schedules.get_array_of_schedules()\u001b[0m\u001b[1;33m\u001b[0m\u001b[1;33m\u001b[0m\u001b[1;33m\u001b[0m\u001b[0m\n\u001b[1;32m----> 7\u001b[1;33m     \u001b[0mgantt_of_schedule\u001b[0m\u001b[1;33m(\u001b[0m\u001b[0mschedules\u001b[0m\u001b[1;33m,\u001b[0m \u001b[1;36m26\u001b[0m\u001b[1;33m,\u001b[0m \u001b[1;34m\"second_course_example.png\"\u001b[0m\u001b[1;33m)\u001b[0m\u001b[1;33m\u001b[0m\u001b[1;33m\u001b[0m\u001b[0m\n\u001b[0m",
      "\u001b[1;32m<ipython-input-29-42eb8e38981d>\u001b[0m in \u001b[0;36mgantt_of_schedule\u001b[1;34m(sys_schedules, time_limit, filename)\u001b[0m\n\u001b[0;32m     46\u001b[0m         \u001b[0mbidule\u001b[0m \u001b[1;33m=\u001b[0m \u001b[0mtasks_len\u001b[0m \u001b[1;33m-\u001b[0m \u001b[0mtache_index\u001b[0m\u001b[1;33m\u001b[0m\u001b[1;33m\u001b[0m\u001b[0m\n\u001b[0;32m     47\u001b[0m         \u001b[0mmax_i\u001b[0m \u001b[1;33m=\u001b[0m \u001b[1;36m1\u001b[0m \u001b[1;33m-\u001b[0m \u001b[1;33m(\u001b[0m\u001b[1;33m(\u001b[0m\u001b[0mtache_index\u001b[0m\u001b[1;33m)\u001b[0m \u001b[1;33m*\u001b[0m \u001b[1;33m(\u001b[0m\u001b[1;36m1\u001b[0m\u001b[1;33m/\u001b[0m\u001b[0mtasks_len\u001b[0m\u001b[1;33m)\u001b[0m\u001b[1;33m)\u001b[0m\u001b[1;33m\u001b[0m\u001b[1;33m\u001b[0m\u001b[0m\n\u001b[1;32m---> 48\u001b[1;33m         \u001b[0mmin_i\u001b[0m \u001b[1;33m=\u001b[0m \u001b[0mmax\u001b[0m \u001b[1;33m-\u001b[0m \u001b[1;36m1\u001b[0m\u001b[1;33m/\u001b[0m\u001b[0mtasks_len\u001b[0m\u001b[1;33m\u001b[0m\u001b[1;33m\u001b[0m\u001b[0m\n\u001b[0m\u001b[0;32m     49\u001b[0m         gnt.axvline(x = i, ymin = min_i, ymax = max_i,\n\u001b[0;32m     50\u001b[0m             color ='red')\n",
      "\u001b[1;31mTypeError\u001b[0m: unsupported operand type(s) for -: 'builtin_function_or_method' and 'float'"
     ]
    },
    {
     "data": {
      "image/png": "[encoded data removed]",
      "text/plain": [
       "<Figure size 432x288 with 1 Axes>"
      ]
     },
     "metadata": {
      "needs_background": "light"
     },
     "output_type": "display_data"
    }
   ],
   "source": [
    "ultimate_test()"
   ]
  },
  {
   "cell_type": "code",
   "execution_count": null,
   "metadata": {},
   "outputs": [],
   "source": [
    "\n",
    "\n"
   ]
  }
 ],
 "metadata": {
  "kernelspec": {
   "display_name": "Python 3",
   "language": "python",
   "name": "python3"
  },
  "language_info": {
   "codemirror_mode": {
    "name": "ipython",
    "version": 3
   },
   "file_extension": ".py",
   "mimetype": "text/x-python",
   "name": "python",
   "nbconvert_exporter": "python",
   "pygments_lexer": "ipython3",
   "version": "3.8.5"
  }
 },
 "nbformat": 4,
 "nbformat_minor": 4
}
