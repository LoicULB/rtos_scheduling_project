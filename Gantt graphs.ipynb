{
 "cells": [
  {
   "cell_type": "code",
   "execution_count": 19,
   "metadata": {},
   "outputs": [
    {
     "data": {
      "text/plain": [
       "<function matplotlib.pyplot.show(close=None, block=None)>"
      ]
     },
     "execution_count": 19,
     "metadata": {},
     "output_type": "execute_result"
    },
    {
     "data": {
      "image/png": "[encoded data removed]",
      "text/plain": [
       "<Figure size 432x288 with 1 Axes>"
      ]
     },
     "metadata": {
      "needs_background": "light"
     },
     "output_type": "display_data"
    }
   ],
   "source": [
    "# Importing the matplotlib.pyplot\n",
    "import matplotlib.pyplot as plt\n",
    " \n",
    "# Declaring a figure \"gnt\"\n",
    "fig, gnt = plt.subplots()\n",
    " \n",
    "# Setting Y-axis limits\n",
    "gnt.set_ylim(0, 50)\n",
    " \n",
    "# Setting X-axis limits\n",
    "gnt.set_xlim(0, 30)\n",
    " \n",
    "# Setting labels for x-axis and y-axis\n",
    "gnt.set_xlabel('seconds since start')\n",
    "gnt.set_ylabel('Processor')\n",
    " \n",
    "# Setting ticks on y-axis\n",
    "gnt.set_yticks([15, 25, 35])\n",
    "# Labelling tickes of y-axis\n",
    "gnt.set_yticklabels(['1', '2', '3'])\n",
    " \n",
    "# Setting graph attribute\n",
    "gnt.grid(True)\n",
    "\n",
    "T1 = [(8,2), (18,2), (28,2)]\n",
    "T2 = [(3, 2), (13, 2), (23, 2)]\n",
    "T3 = [(0, 3), (5, 3), (10, 3), (15, 3), (20,3), (25,3)]\n",
    "# Declaring a bar in schedule\n",
    "gnt.broken_barh(T1, (10, 9), facecolors =('tab:orange'))\n",
    " \n",
    "# Declaring multiple bars in at same level and same width\n",
    "gnt.broken_barh(T2, (20, 9), facecolors ='tab:blue')\n",
    "\n",
    "gnt.broken_barh(T3, (30, 9), facecolors =('tab:red'))\n",
    "plt.show\n",
    "#plt.savefig(\"gantt1.png\")"
   ]
  },
  {
   "cell_type": "code",
   "execution_count": null,
   "metadata": {},
   "outputs": [],
   "source": []
  }
 ],
 "metadata": {
  "kernelspec": {
   "display_name": "Python 3",
   "language": "python",
   "name": "python3"
  },
  "language_info": {
   "codemirror_mode": {
    "name": "ipython",
    "version": 3
   },
   "file_extension": ".py",
   "mimetype": "text/x-python",
   "name": "python",
   "nbconvert_exporter": "python",
   "pygments_lexer": "ipython3",
   "version": "3.8.5"
  }
 },
 "nbformat": 4,
 "nbformat_minor": 4
}
