{
 "cells": [
  {
   "cell_type": "code",
   "execution_count": 3,
   "source": [
    "\n",
    "import matplotlib.pyplot as plt\n",
    "import numpy as np\n",
    "from matplotlib.cm import get_cmap\n",
    "from matplotlib.ticker import MultipleLocator\n",
    "from task import Task\n",
    "from scheduling import SystemScheduling\n",
    "from scheduling import JobExecution\n",
    "#from ftp_rm_scheduling import get_ftp_rm_schedule\n",
    "\n",
    "def set_limits_of_graph(sys_schedules : SystemScheduling, graph):\n",
    "    graph.set_ylim(0, len(sys_schedules.tasks)*2 )\n",
    "    graph.set_xlim(0, sys_schedules.feasibility_interval)\n",
    "    \n",
    "def get_list_of_colors():\n",
    "    name = \"tab10\"\n",
    "    cmap = get_cmap(name)  # type: matplotlib.colors.ListedColormap\n",
    "    return cmap.colors  # type: list\n",
    "    \n",
    "def set_axes_labels(gnt):\n",
    "    gnt.set_xlabel('CPU Moments')\n",
    "    gnt.set_ylabel('Tasks')\n",
    "    \n",
    "def set_x_ticks(gnt, time_limit):\n",
    "    # Setting ticks on y-axis\n",
    "    #major_ticks = np.arange(0, time_limit, 5)\n",
    "    #minor_ticks = np.arange(0, time_limit, 1)\n",
    "    #gnt.set_xticks(minor_ticks, )\n",
    "    #gnt.set_xticks(major_ticks)\n",
    "    #gnt.tick_params(which='minor', length=1)\n",
    "    gnt.xaxis.set_minor_locator(MultipleLocator(1))\n",
    "\n",
    "    # Initialize minor ticks\n",
    "    #gnt.minorticks_on()\n",
    "    \n",
    "def set_y_ticks(gnt, tasks):\n",
    "    tasks_len = len(tasks)\n",
    "    #should update\n",
    "    ticks = []\n",
    "    labels = []\n",
    "    for i in range(tasks_len):\n",
    "        ticks.append(((i)*2))\n",
    "        labels.append(i+1)\n",
    "    \n",
    "\n",
    "    # Now minor ticks exist and are turned on for both axes\n",
    "\n",
    "    # Turn off x-axis minor ticks\n",
    "    #gnt.yaxis.set_tick_params(which='minor', bottom=False)\n",
    "    \n",
    "    gnt.set_yticks(ticks)\n",
    "    # Labelling tickes of y-axis\n",
    "    gnt.set_yticklabels(labels)\n",
    "# TODO to test\n",
    "\n",
    "\n",
    "def draw_periods_for_task(task_index, task, gnt, time_limit, color, len_tasks):\n",
    "    tasks_len = len_tasks\n",
    "    task_index = (len_tasks - task_index)-1\n",
    "    for i in range(task.offset+task.period, time_limit+1, task.period):\n",
    "        \n",
    "        \n",
    "        \n",
    "        max_i = 1 - ((task_index) * (1/tasks_len))\n",
    "        min_i = max_i - 1/tasks_len\n",
    "        gnt.axvline(x = i, ymin = min_i, ymax = max_i,\n",
    "            color =color, linewidth = 4, alpha=0.50)\n",
    "def draw_deadline_task(task_index, task, gnt, time_limit, color, len_tasks):\n",
    "    tasks_len = len_tasks\n",
    "    task_index = (len_tasks - task_index)-1\n",
    "    for i in range(task.offset+task.deadline, time_limit+1, task.deadline):\n",
    "        \n",
    "        max_i = 1 - ((task_index) * (1/tasks_len))\n",
    "        min_i = max_i - 1/tasks_len\n",
    "        gnt.axvline(x = i, ymin = min_i, ymax = max_i,\n",
    "            color =color, linestyle =\"--\", linewidth = 4)\n",
    "        \n",
    "def draw_job_execution(gnt, job_execution, color, task_index, is_deadline_missed):\n",
    "    job_exe_t = job_execution.get_as_tuple()\n",
    "    if is_deadline_missed:\n",
    "        gnt.broken_barh([job_exe_t], (task_index*2,  1), facecolors=color, hatch='/', alpha=0.5, edgecolor='black', linewidth=4)\n",
    "    else :\n",
    "        gnt.broken_barh([job_exe_t], (task_index*2,  1), facecolors=color,edgecolor='black', linewidth=2)\n",
    "    \n",
    "def draw_job(gnt, job, color, task_index):\n",
    "    \n",
    "    is_deadline_missed = job.is_deadline_missed(50)\n",
    "    \n",
    "    for job_exe in job.job_executions:\n",
    "        \n",
    "        draw_job_execution(gnt, job_exe, color, task_index, is_deadline_missed)\n",
    "        \n",
    "def draw_task_scheduling(gnt, task, color, task_index):\n",
    "    for job in task.jobs:\n",
    "        draw_job(gnt, job, color, task_index)\n",
    "    \n",
    "        \n",
    "def draw_system_scheduling(gnt, sys_sched, colors):\n",
    "    for i, schedule in enumerate(reversed(sys_sched.schedules)):\n",
    "        #print(schedule)\n",
    "        draw_task_scheduling(gnt, schedule, colors[i], i)\n",
    "        draw_periods_for_task(i, schedule.task, gnt, sys_sched.feasibility_interval, colors[i], len(sys_sched.tasks))\n",
    "        draw_deadline_task(i, schedule.task, gnt, sys_sched.feasibility_interval, colors[i], len(sys_sched.tasks))\n",
    "        #gnt.broken_barh(schedule, (i*2,  1), facecolors=colors[i])\n",
    "  \n",
    "# TODO clean this ugly code\n",
    "# TODO use a schedules object\n",
    "def gantt_of_schedule(sys_schedules, time_limit , filename=\"gant_diagram.png\"):\n",
    "    \"\"\"Save a png of the gant diagram of the given schedule\n",
    "\n",
    "    Args:\n",
    "        schedules (array): the schedule to draw\n",
    "        time_limit ([type]): the time limit of the graph\n",
    "    \"\"\"\n",
    "    TASKS_HEIGHT = 1\n",
    "    \n",
    "    # Declaring a figure \"gnt\"\n",
    "    fig, gnt = plt.subplots()\n",
    "    \n",
    "    schedules = sys_schedules.get_array_of_schedules()\n",
    "    time_limit = sys_schedules.feasibility_interval\n",
    "    set_limits_of_graph(sys_schedules, gnt)\n",
    "    \n",
    "    colors = get_list_of_colors()\n",
    "    gnt.set_prop_cycle(color=colors)\n",
    "    # Setting labels for x-axis and y-axis\n",
    "    set_axes_labels(gnt)\n",
    "    \n",
    "    #add periods of T1\n",
    "    period_of_t1 = sys_schedules.tasks[0].period\n",
    "\n",
    "    set_x_ticks(gnt, time_limit)\n",
    "    set_y_ticks(gnt, sys_schedules.tasks)\n",
    "    # Setting graph attribute\n",
    "    gnt.grid(True)\n",
    "    #plt.style.use('classic')\n",
    "    #after\n",
    "    \n",
    "    \n",
    "    draw_system_scheduling(gnt, sys_schedules, colors)\n",
    "    \"\"\"\n",
    "    for i, schedule in enumerate(reversed(schedules)):\n",
    "        print(schedule)\n",
    "        gnt.broken_barh(schedule, (i*2,  1), facecolors=colors[i])\n",
    "    \"\"\"\n",
    "    #before\n",
    "    \"\"\"\n",
    "    for i, schedule in enumerate(reversed(schedules)):\n",
    "        #for j, task in enumerate(schedule):\n",
    "        T = []\n",
    "        for j, job in enumerate(schedule):\n",
    "            tup = (job.start, job.nb_cpu_units)\n",
    "            T.append(tup)\n",
    "        gnt.broken_barh(T, (i*2,  1), facecolors=colors[i])\n",
    "    \"\"\"\n",
    "    #fig(figsize=(30,2))\n",
    "    fig.set_figwidth(12)\n",
    "    fig.set_figheight(4)\n",
    "    plt.savefig(filename)\n",
    "    return plt\n",
    "    \n"
   ],
   "outputs": [
    {
     "output_type": "error",
     "ename": "ImportError",
     "evalue": "\n\nIMPORTANT: PLEASE READ THIS FOR ADVICE ON HOW TO SOLVE THIS ISSUE!\n\nImporting the numpy c-extensions failed.\n- Try uninstalling and reinstalling numpy.\n- If you have already done that, then:\n  1. Check that you expected to use Python3.9 from \"/usr/bin/python3.9\",\n     and that you have no directories in your PATH or PYTHONPATH that can\n     interfere with the Python and numpy version \"1.17.4\" you're trying to use.\n  2. If (1) looks fine, you can open a new issue at\n     https://github.com/numpy/numpy/issues.  Please include details on:\n     - how you installed Python\n     - how you installed numpy\n     - your operating system\n     - whether or not you have multiple versions of Python installed\n     - if you built from source, your compiler versions and ideally a build log\n\n- If you're working with a numpy git repository, try `git clean -xdf`\n  (removes all files not under version control) and rebuild numpy.\n\nNote: this error has many possible causes, so please don't comment on\nan existing issue about this - open a new one instead.\n\nOriginal error was: No module named 'numpy.core._multiarray_umath'\n",
     "traceback": [
      "\u001b[0;31m---------------------------------------------------------------------------\u001b[0m",
      "\u001b[0;31mModuleNotFoundError\u001b[0m                       Traceback (most recent call last)",
      "\u001b[0;32m/usr/lib/python3/dist-packages/numpy/core/__init__.py\u001b[0m in \u001b[0;36m<module>\u001b[0;34m\u001b[0m\n\u001b[1;32m     16\u001b[0m \u001b[0;32mtry\u001b[0m\u001b[0;34m:\u001b[0m\u001b[0;34m\u001b[0m\u001b[0;34m\u001b[0m\u001b[0m\n\u001b[0;32m---> 17\u001b[0;31m     \u001b[0;32mfrom\u001b[0m \u001b[0;34m.\u001b[0m \u001b[0;32mimport\u001b[0m \u001b[0mmultiarray\u001b[0m\u001b[0;34m\u001b[0m\u001b[0;34m\u001b[0m\u001b[0m\n\u001b[0m\u001b[1;32m     18\u001b[0m \u001b[0;32mexcept\u001b[0m \u001b[0mImportError\u001b[0m \u001b[0;32mas\u001b[0m \u001b[0mexc\u001b[0m\u001b[0;34m:\u001b[0m\u001b[0;34m\u001b[0m\u001b[0;34m\u001b[0m\u001b[0m\n",
      "\u001b[0;32m/usr/lib/python3/dist-packages/numpy/core/multiarray.py\u001b[0m in \u001b[0;36m<module>\u001b[0;34m\u001b[0m\n\u001b[1;32m     13\u001b[0m \u001b[0;34m\u001b[0m\u001b[0m\n\u001b[0;32m---> 14\u001b[0;31m \u001b[0;32mfrom\u001b[0m \u001b[0;34m.\u001b[0m \u001b[0;32mimport\u001b[0m \u001b[0moverrides\u001b[0m\u001b[0;34m\u001b[0m\u001b[0;34m\u001b[0m\u001b[0m\n\u001b[0m\u001b[1;32m     15\u001b[0m \u001b[0;32mfrom\u001b[0m \u001b[0;34m.\u001b[0m \u001b[0;32mimport\u001b[0m \u001b[0m_multiarray_umath\u001b[0m\u001b[0;34m\u001b[0m\u001b[0;34m\u001b[0m\u001b[0m\n",
      "\u001b[0;32m/usr/lib/python3/dist-packages/numpy/core/overrides.py\u001b[0m in \u001b[0;36m<module>\u001b[0;34m\u001b[0m\n\u001b[1;32m      6\u001b[0m \u001b[0;34m\u001b[0m\u001b[0m\n\u001b[0;32m----> 7\u001b[0;31m from numpy.core._multiarray_umath import (\n\u001b[0m\u001b[1;32m      8\u001b[0m     add_docstring, implement_array_function, _get_implementing_args)\n",
      "\u001b[0;31mModuleNotFoundError\u001b[0m: No module named 'numpy.core._multiarray_umath'",
      "\nDuring handling of the above exception, another exception occurred:\n",
      "\u001b[0;31mImportError\u001b[0m                               Traceback (most recent call last)",
      "\u001b[0;32m/tmp/ipykernel_5424/682935751.py\u001b[0m in \u001b[0;36m<module>\u001b[0;34m\u001b[0m\n\u001b[0;32m----> 1\u001b[0;31m \u001b[0;32mimport\u001b[0m \u001b[0mmatplotlib\u001b[0m\u001b[0;34m.\u001b[0m\u001b[0mpyplot\u001b[0m \u001b[0;32mas\u001b[0m \u001b[0mplt\u001b[0m\u001b[0;34m\u001b[0m\u001b[0;34m\u001b[0m\u001b[0m\n\u001b[0m\u001b[1;32m      2\u001b[0m \u001b[0;32mimport\u001b[0m \u001b[0mnumpy\u001b[0m \u001b[0;32mas\u001b[0m \u001b[0mnp\u001b[0m\u001b[0;34m\u001b[0m\u001b[0;34m\u001b[0m\u001b[0m\n\u001b[1;32m      3\u001b[0m \u001b[0;32mfrom\u001b[0m \u001b[0mmatplotlib\u001b[0m\u001b[0;34m.\u001b[0m\u001b[0mcm\u001b[0m \u001b[0;32mimport\u001b[0m \u001b[0mget_cmap\u001b[0m\u001b[0;34m\u001b[0m\u001b[0;34m\u001b[0m\u001b[0m\n\u001b[1;32m      4\u001b[0m \u001b[0;32mfrom\u001b[0m \u001b[0mmatplotlib\u001b[0m\u001b[0;34m.\u001b[0m\u001b[0mticker\u001b[0m \u001b[0;32mimport\u001b[0m \u001b[0mMultipleLocator\u001b[0m\u001b[0;34m\u001b[0m\u001b[0;34m\u001b[0m\u001b[0m\n\u001b[1;32m      5\u001b[0m \u001b[0;32mfrom\u001b[0m \u001b[0mtask\u001b[0m \u001b[0;32mimport\u001b[0m \u001b[0mTask\u001b[0m\u001b[0;34m\u001b[0m\u001b[0;34m\u001b[0m\u001b[0m\n",
      "\u001b[0;32m/usr/lib/python3/dist-packages/matplotlib/__init__.py\u001b[0m in \u001b[0;36m<module>\u001b[0;34m\u001b[0m\n\u001b[1;32m    136\u001b[0m \u001b[0;31m# cbook must import matplotlib only within function\u001b[0m\u001b[0;34m\u001b[0m\u001b[0;34m\u001b[0m\u001b[0;34m\u001b[0m\u001b[0m\n\u001b[1;32m    137\u001b[0m \u001b[0;31m# definitions, so it is safe to import from it here.\u001b[0m\u001b[0;34m\u001b[0m\u001b[0;34m\u001b[0m\u001b[0;34m\u001b[0m\u001b[0m\n\u001b[0;32m--> 138\u001b[0;31m \u001b[0;32mfrom\u001b[0m \u001b[0;34m.\u001b[0m \u001b[0;32mimport\u001b[0m \u001b[0mcbook\u001b[0m\u001b[0;34m,\u001b[0m \u001b[0mrcsetup\u001b[0m\u001b[0;34m\u001b[0m\u001b[0;34m\u001b[0m\u001b[0m\n\u001b[0m\u001b[1;32m    139\u001b[0m from matplotlib.cbook import (\n\u001b[1;32m    140\u001b[0m     MatplotlibDeprecationWarning, dedent, get_label, sanitize_sequence)\n",
      "\u001b[0;32m/usr/lib/python3/dist-packages/matplotlib/cbook/__init__.py\u001b[0m in \u001b[0;36m<module>\u001b[0;34m\u001b[0m\n\u001b[1;32m     29\u001b[0m \u001b[0;32mfrom\u001b[0m \u001b[0mweakref\u001b[0m \u001b[0;32mimport\u001b[0m \u001b[0mWeakMethod\u001b[0m\u001b[0;34m\u001b[0m\u001b[0;34m\u001b[0m\u001b[0m\n\u001b[1;32m     30\u001b[0m \u001b[0;34m\u001b[0m\u001b[0m\n\u001b[0;32m---> 31\u001b[0;31m \u001b[0;32mimport\u001b[0m \u001b[0mnumpy\u001b[0m \u001b[0;32mas\u001b[0m \u001b[0mnp\u001b[0m\u001b[0;34m\u001b[0m\u001b[0;34m\u001b[0m\u001b[0m\n\u001b[0m\u001b[1;32m     32\u001b[0m \u001b[0;34m\u001b[0m\u001b[0m\n\u001b[1;32m     33\u001b[0m \u001b[0;32mimport\u001b[0m \u001b[0mmatplotlib\u001b[0m\u001b[0;34m\u001b[0m\u001b[0;34m\u001b[0m\u001b[0m\n",
      "\u001b[0;32m/usr/lib/python3/dist-packages/numpy/__init__.py\u001b[0m in \u001b[0;36m<module>\u001b[0;34m\u001b[0m\n\u001b[1;32m    140\u001b[0m     \u001b[0;32mfrom\u001b[0m \u001b[0;34m.\u001b[0m \u001b[0;32mimport\u001b[0m \u001b[0m_distributor_init\u001b[0m\u001b[0;34m\u001b[0m\u001b[0;34m\u001b[0m\u001b[0m\n\u001b[1;32m    141\u001b[0m \u001b[0;34m\u001b[0m\u001b[0m\n\u001b[0;32m--> 142\u001b[0;31m     \u001b[0;32mfrom\u001b[0m \u001b[0;34m.\u001b[0m \u001b[0;32mimport\u001b[0m \u001b[0mcore\u001b[0m\u001b[0;34m\u001b[0m\u001b[0;34m\u001b[0m\u001b[0m\n\u001b[0m\u001b[1;32m    143\u001b[0m     \u001b[0;32mfrom\u001b[0m \u001b[0;34m.\u001b[0m\u001b[0mcore\u001b[0m \u001b[0;32mimport\u001b[0m \u001b[0;34m*\u001b[0m\u001b[0;34m\u001b[0m\u001b[0;34m\u001b[0m\u001b[0m\n\u001b[1;32m    144\u001b[0m     \u001b[0;32mfrom\u001b[0m \u001b[0;34m.\u001b[0m \u001b[0;32mimport\u001b[0m \u001b[0mcompat\u001b[0m\u001b[0;34m\u001b[0m\u001b[0;34m\u001b[0m\u001b[0m\n",
      "\u001b[0;32m/usr/lib/python3/dist-packages/numpy/core/__init__.py\u001b[0m in \u001b[0;36m<module>\u001b[0;34m\u001b[0m\n\u001b[1;32m     45\u001b[0m \"\"\" % (sys.version_info[0], sys.version_info[1], sys.executable,\n\u001b[1;32m     46\u001b[0m         __version__, exc)\n\u001b[0;32m---> 47\u001b[0;31m     \u001b[0;32mraise\u001b[0m \u001b[0mImportError\u001b[0m\u001b[0;34m(\u001b[0m\u001b[0mmsg\u001b[0m\u001b[0;34m)\u001b[0m\u001b[0;34m\u001b[0m\u001b[0;34m\u001b[0m\u001b[0m\n\u001b[0m\u001b[1;32m     48\u001b[0m \u001b[0;32mfinally\u001b[0m\u001b[0;34m:\u001b[0m\u001b[0;34m\u001b[0m\u001b[0;34m\u001b[0m\u001b[0m\n\u001b[1;32m     49\u001b[0m     \u001b[0;32mfor\u001b[0m \u001b[0menvkey\u001b[0m \u001b[0;32min\u001b[0m \u001b[0menv_added\u001b[0m\u001b[0;34m:\u001b[0m\u001b[0;34m\u001b[0m\u001b[0;34m\u001b[0m\u001b[0m\n",
      "\u001b[0;31mImportError\u001b[0m: \n\nIMPORTANT: PLEASE READ THIS FOR ADVICE ON HOW TO SOLVE THIS ISSUE!\n\nImporting the numpy c-extensions failed.\n- Try uninstalling and reinstalling numpy.\n- If you have already done that, then:\n  1. Check that you expected to use Python3.9 from \"/usr/bin/python3.9\",\n     and that you have no directories in your PATH or PYTHONPATH that can\n     interfere with the Python and numpy version \"1.17.4\" you're trying to use.\n  2. If (1) looks fine, you can open a new issue at\n     https://github.com/numpy/numpy/issues.  Please include details on:\n     - how you installed Python\n     - how you installed numpy\n     - your operating system\n     - whether or not you have multiple versions of Python installed\n     - if you built from source, your compiler versions and ideally a build log\n\n- If you're working with a numpy git repository, try `git clean -xdf`\n  (removes all files not under version control) and rebuild numpy.\n\nNote: this error has many possible causes, so please don't comment on\nan existing issue about this - open a new one instead.\n\nOriginal error was: No module named 'numpy.core._multiarray_umath'\n"
     ]
    }
   ],
   "metadata": {}
  },
  {
   "cell_type": "code",
   "execution_count": null,
   "source": [
    "from scheduling import get_scheduling_course_first_exemple\n",
    "from scheduling import get_scheduling_course_second_exemple\n",
    "from scheduling import get_scheduling_deadline_missed\n",
    "\n",
    "def ultimate_test():\n",
    "    schedules = get_scheduling_course_first_exemple()\n",
    "    schedules = get_scheduling_deadline_missed()\n",
    "    #arr = schedules.get_array_of_schedules()\n",
    "    gantt_of_schedule(schedules, 26, \"second_course_example.png\")"
   ],
   "outputs": [],
   "metadata": {}
  },
  {
   "cell_type": "code",
   "execution_count": null,
   "source": [
    "ultimate_test()"
   ],
   "outputs": [
    {
     "output_type": "display_data",
     "data": {
      "image/png": "[encoded data removed]",
      "text/plain": [
       "<Figure size 864x288 with 1 Axes>"
      ]
     },
     "metadata": {
      "needs_background": "light"
     }
    }
   ],
   "metadata": {}
  },
  {
   "cell_type": "code",
   "execution_count": null,
   "source": [
    "job_exe = JobExecution(0,5)\n",
    "job_exe.get_as_tuple()\n",
    "\n"
   ],
   "outputs": [
    {
     "output_type": "execute_result",
     "data": {
      "text/plain": [
       "(0, 5)"
      ]
     },
     "metadata": {},
     "execution_count": 42
    }
   ],
   "metadata": {}
  }
 ],
 "metadata": {
  "kernelspec": {
   "name": "python3",
   "display_name": "Python 3.9.5 64-bit"
  },
  "language_info": {
   "codemirror_mode": {
    "name": "ipython",
    "version": 3
   },
   "file_extension": ".py",
   "mimetype": "text/x-python",
   "name": "python",
   "nbconvert_exporter": "python",
   "pygments_lexer": "ipython3",
   "version": "3.9.5"
  },
  "interpreter": {
   "hash": "36cf16204b8548560b1c020c4e8fb5b57f0e4c58016f52f2d4be01e192833930"
  }
 },
 "nbformat": 4,
 "nbformat_minor": 4
}