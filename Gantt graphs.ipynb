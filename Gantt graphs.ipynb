{
 "cells": [
  {
   "cell_type": "code",
   "execution_count": 2,
   "metadata": {},
   "outputs": [
    {
     "data": {
      "image/png": "[encoded data removed]",
      "text/plain": [
       "<Figure size 432x288 with 1 Axes>"
      ]
     },
     "metadata": {
      "needs_background": "light"
     },
     "output_type": "display_data"
    }
   ],
   "source": [
    "# Importing the matplotlib.pyplot\n",
    "import matplotlib.pyplot as plt\n",
    "from ftp_rm_scheduling import get_first_example_ftp_rm_schedule\n",
    "def print_goal():\n",
    "    # Declaring a figure \"gnt\"\n",
    "    fig, gnt = plt.subplots()\n",
    " \n",
    "    # Setting Y-axis limits\n",
    "    gnt.set_ylim(0, 50)\n",
    " \n",
    "    # Setting X-axis limits\n",
    "    gnt.set_xlim(0, 30)\n",
    " \n",
    "    # Setting labels for x-axis and y-axis\n",
    "    gnt.set_xlabel('seconds since start')\n",
    "    gnt.set_ylabel('Processor')\n",
    " \n",
    "    # Setting ticks on y-axis\n",
    "    gnt.set_yticks([15, 25, 35])\n",
    "    # Labelling tickes of y-axis\n",
    "    gnt.set_yticklabels(['1', '2', '3'])\n",
    " \n",
    "    # Setting graph attribute\n",
    "    gnt.grid(True)\n",
    "\n",
    "    T1 = [(8,2), (18,2), (28,2)]\n",
    "    T2 = [(3, 2), (13, 2), (23, 2)]\n",
    "    T3 = [(0, 3), (5, 3), (10, 3), (15, 3), (20,3), (25,3)]\n",
    "    # Declaring a bar in schedule\n",
    "    gnt.broken_barh(T1, (10, 9), facecolors =('tab:orange'))\n",
    " \n",
    "    # Declaring multiple bars in at same level and same width\n",
    "    gnt.broken_barh(T2, (20, 9), facecolors ='tab:blue')\n",
    "\n",
    "    gnt.broken_barh(T3, (30, 9), facecolors =('tab:red'))\n",
    "    plt.show\n",
    "    #plt.savefig(\"gantt1.png\")\n",
    "    \n",
    "print_goal()\n",
    "\n"
   ]
  },
  {
   "cell_type": "code",
   "execution_count": 3,
   "metadata": {},
   "outputs": [],
   "source": [
    "schedules = get_first_example_ftp_rm_schedule()"
   ]
  },
  {
   "cell_type": "code",
   "execution_count": 5,
   "metadata": {},
   "outputs": [
    {
     "data": {
      "text/plain": [
       "<module 'matplotlib.pyplot' from '/usr/lib/python3/dist-packages/matplotlib/pyplot.py'>"
      ]
     },
     "execution_count": 5,
     "metadata": {},
     "output_type": "execute_result"
    },
    {
     "data": {
      "image/png": "[encoded data removed]",
      "text/plain": [
       "<Figure size 432x288 with 1 Axes>"
      ]
     },
     "metadata": {
      "needs_background": "light"
     },
     "output_type": "display_data"
    }
   ],
   "source": [
    "import numpy as np\n",
    "from matplotlib.cm import get_cmap\n",
    "from matplotlib.ticker import MultipleLocator\n",
    "\n",
    "def gantt_of_schedule(schedules, time_limit ):\n",
    "    TASKS_HEIGHT = 1\n",
    "    # Declaring a figure \"gnt\"\n",
    "    fig, gnt = plt.subplots()\n",
    "    # Setting Y-axis limits\n",
    "    gnt.set_ylim(0, len(schedules)*2 )\n",
    "    #TASKS_HEIGHT /= 1.2\n",
    " \n",
    "    # Setting X-axis limits\n",
    "    gnt.set_xlim(0, time_limit)\n",
    "    name = \"tab10\"\n",
    "    cmap = get_cmap(name)  # type: matplotlib.colors.ListedColormap\n",
    "    colors = cmap.colors  # type: list\n",
    "    gnt.set_prop_cycle(color=colors)\n",
    "    # Setting labels for x-axis and y-axis\n",
    "    gnt.set_xlabel('CPU Moments')\n",
    "    gnt.set_ylabel('Tasks')\n",
    "    \n",
    "    #should update\n",
    "    ticks = []\n",
    "    labels = []\n",
    "    for i in range(len(schedules)):\n",
    "        ticks.append(((i)*2))\n",
    "        labels.append(i+1)\n",
    "    # Setting ticks on y-axis\n",
    "    #major_ticks = np.arange(0, time_limit, 5)\n",
    "    minor_ticks = np.arange(0, time_limit, 1)\n",
    "    #gnt.set_xticks(minor_ticks, )\n",
    "    #gnt.set_xticks(major_ticks)\n",
    "    #gnt.tick_params(which='minor', length=1)\n",
    "    gnt.xaxis.set_minor_locator(MultipleLocator(1))\n",
    "\n",
    "    # Initialize minor ticks\n",
    "    #gnt.minorticks_on()\n",
    "\n",
    "# Now minor ticks exist and are turned on for both axes\n",
    "\n",
    "# Turn off x-axis minor ticks\n",
    "    #gnt.yaxis.set_tick_params(which='minor', bottom=False)\n",
    "    \n",
    "    gnt.set_yticks(ticks)\n",
    "    # Labelling tickes of y-axis\n",
    "    gnt.set_yticklabels(labels)\n",
    "    # Setting graph attribute\n",
    "    gnt.grid(True)\n",
    "    #plt.style.use('classic')\n",
    "    for i, schedule in enumerate(reversed(schedules)):\n",
    "        #for j, task in enumerate(schedule):\n",
    "        T = []\n",
    "        for j, job in enumerate(schedule):\n",
    "            tup = (job.start, job.nb_cpu_units)\n",
    "            T.append(tup)\n",
    "        gnt.broken_barh(T, (i*2,  1), facecolors=colors[i])\n",
    "    plt.savefig('gantt_diagram.png')\n",
    "    return plt\n",
    "    \n",
    "gantt_of_schedule(schedules, 25)\n",
    "    "
   ]
  },
  {
   "cell_type": "code",
   "execution_count": null,
   "metadata": {},
   "outputs": [],
   "source": [
    "\n",
    "\n"
   ]
  },
  {
   "cell_type": "code",
   "execution_count": null,
   "metadata": {},
   "outputs": [],
   "source": []
  }
 ],
 "metadata": {
  "kernelspec": {
   "display_name": "Python 3",
   "language": "python",
   "name": "python3"
  },
  "language_info": {
   "codemirror_mode": {
    "name": "ipython",
    "version": 3
   },
   "file_extension": ".py",
   "mimetype": "text/x-python",
   "name": "python",
   "nbconvert_exporter": "python",
   "pygments_lexer": "ipython3",
   "version": "3.8.10"
  }
 },
 "nbformat": 4,
 "nbformat_minor": 4
}
