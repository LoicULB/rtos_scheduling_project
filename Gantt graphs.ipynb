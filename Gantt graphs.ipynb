{
 "cells": [
  {
   "cell_type": "code",
   "execution_count": 57,
   "metadata": {},
   "outputs": [],
   "source": [
    "\n",
    "import matplotlib.pyplot as plt\n",
    "import numpy as np\n",
    "from matplotlib.cm import get_cmap\n",
    "from matplotlib.ticker import MultipleLocator\n",
    "from task import Task\n",
    "from scheduling import SystemScheduling\n",
    "from scheduling import JobExecution\n",
    "#from ftp_rm_scheduling import get_ftp_rm_schedule\n",
    "\n",
    "def set_limits_of_graph(sys_schedules : SystemScheduling, graph):\n",
    "    graph.set_ylim(0, len(sys_schedules.tasks)*2 )\n",
    "    graph.set_xlim(0, sys_schedules.feasibility_interval)\n",
    "    \n",
    "def get_list_of_colors():\n",
    "    name = \"tab10\"\n",
    "    cmap = get_cmap(name)  # type: matplotlib.colors.ListedColormap\n",
    "    return cmap.colors  # type: list\n",
    "    \n",
    "def set_axes_labels(gnt):\n",
    "    gnt.set_xlabel('CPU Moments')\n",
    "    gnt.set_ylabel('Tasks')\n",
    "    \n",
    "def set_x_ticks(gnt, time_limit):\n",
    "    # Setting ticks on y-axis\n",
    "    #major_ticks = np.arange(0, time_limit, 5)\n",
    "    #minor_ticks = np.arange(0, time_limit, 1)\n",
    "    #gnt.set_xticks(minor_ticks, )\n",
    "    #gnt.set_xticks(major_ticks)\n",
    "    #gnt.tick_params(which='minor', length=1)\n",
    "    gnt.xaxis.set_minor_locator(MultipleLocator(1))\n",
    "\n",
    "    # Initialize minor ticks\n",
    "    #gnt.minorticks_on()\n",
    "    \n",
    "def set_y_ticks(gnt, tasks):\n",
    "    tasks_len = len(tasks)\n",
    "    #should update\n",
    "    ticks = []\n",
    "    labels = []\n",
    "    for i in range(tasks_len):\n",
    "        ticks.append(((i)*2))\n",
    "        labels.append(i+1)\n",
    "    \n",
    "\n",
    "    # Now minor ticks exist and are turned on for both axes\n",
    "\n",
    "    # Turn off x-axis minor ticks\n",
    "    #gnt.yaxis.set_tick_params(which='minor', bottom=False)\n",
    "    \n",
    "    gnt.set_yticks(ticks)\n",
    "    # Labelling tickes of y-axis\n",
    "    gnt.set_yticklabels(labels)\n",
    "# TODO to test\n",
    "def draw_periods_for_task(task_index, tasks, gnt, time_limit, color):\n",
    "    task = tasks[task_index]\n",
    "    for i in range(0, time_limit, task.period):\n",
    "        \n",
    "        tasks_len = len(tasks)\n",
    "        \n",
    "        max_i = 1 - ((task_index) * (1/tasks_len))\n",
    "        min_i = max_i - 1/tasks_len\n",
    "        gnt.axvline(x = i, ymin = min_i, ymax = max_i,\n",
    "            color =color)\n",
    "    \n",
    "def draw_job_execution(gnt, job_execution, color, task_index):\n",
    "    job_exe_t = job_execution.get_as_tuple()\n",
    "    gnt.broken_barh([job_exe_t], (task_index*2,  1), facecolors=color)\n",
    "    \n",
    "def draw_job(gnt, job, color, task_index):\n",
    "    for job_exe in job.job_executions:\n",
    "        draw_job_execution(gnt, job_exe, color, task_index)\n",
    "        \n",
    "def draw_task_scheduling(gnt, task, color, task_index):\n",
    "    for job in task.jobs:\n",
    "        draw_job(gnt, job, color, task_index)\n",
    "    \n",
    "        \n",
    "def draw_system_scheduling(gnt, sys_sched, colors):\n",
    "    for i, schedule in enumerate(reversed(sys_sched.schedules)):\n",
    "        #print(schedule)\n",
    "        draw_task_scheduling(gnt, schedule, colors[i], i)\n",
    "        draw_periods_for_task(i, sys_sched.tasks, gnt, sys_sched.feasibility_interval, colors[i])\n",
    "        #gnt.broken_barh(schedule, (i*2,  1), facecolors=colors[i])\n",
    "    \n",
    "# TODO clean this ugly code\n",
    "# TODO use a schedules object\n",
    "def gantt_of_schedule(sys_schedules, time_limit , filename=\"gant_diagram.png\"):\n",
    "    \"\"\"Save a png of the gant diagram of the given schedule\n",
    "\n",
    "    Args:\n",
    "        schedules (array): the schedule to draw\n",
    "        time_limit ([type]): the time limit of the graph\n",
    "    \"\"\"\n",
    "    TASKS_HEIGHT = 1\n",
    "    \n",
    "    # Declaring a figure \"gnt\"\n",
    "    fig, gnt = plt.subplots()\n",
    "    \n",
    "    schedules = sys_schedules.get_array_of_schedules()\n",
    "    time_limit = sys_schedules.feasibility_interval\n",
    "    set_limits_of_graph(sys_schedules, gnt)\n",
    "    \n",
    "    colors = get_list_of_colors()\n",
    "    gnt.set_prop_cycle(color=colors)\n",
    "    # Setting labels for x-axis and y-axis\n",
    "    set_axes_labels(gnt)\n",
    "    \n",
    "    #add periods of T1\n",
    "    period_of_t1 = sys_schedules.tasks[0].period\n",
    "\n",
    "    set_x_ticks(gnt, time_limit)\n",
    "    set_y_ticks(gnt, sys_schedules.tasks)\n",
    "    # Setting graph attribute\n",
    "    gnt.grid(True)\n",
    "    #plt.style.use('classic')\n",
    "    #after\n",
    "    \n",
    "    \n",
    "    draw_system_scheduling(gnt, sys_schedules, colors)\n",
    "    \"\"\"\n",
    "    for i, schedule in enumerate(reversed(schedules)):\n",
    "        print(schedule)\n",
    "        gnt.broken_barh(schedule, (i*2,  1), facecolors=colors[i])\n",
    "    \"\"\"\n",
    "    #before\n",
    "    \"\"\"\n",
    "    for i, schedule in enumerate(reversed(schedules)):\n",
    "        #for j, task in enumerate(schedule):\n",
    "        T = []\n",
    "        for j, job in enumerate(schedule):\n",
    "            tup = (job.start, job.nb_cpu_units)\n",
    "            T.append(tup)\n",
    "        gnt.broken_barh(T, (i*2,  1), facecolors=colors[i])\n",
    "    \"\"\"\n",
    "    #plt.savefig(filename)\n",
    "    return plt\n",
    "    \n"
   ]
  },
  {
   "cell_type": "code",
   "execution_count": 58,
   "metadata": {},
   "outputs": [],
   "source": [
    "from scheduling import get_scheduling_course_first_exemple\n",
    "from scheduling import get_scheduling_course_second_exemple\n",
    "\n",
    "def ultimate_test():\n",
    "    schedules = get_scheduling_course_first_exemple()\n",
    "    #arr = schedules.get_array_of_schedules()\n",
    "    gantt_of_schedule(schedules, 26, \"second_course_example.png\")"
   ]
  },
  {
   "cell_type": "code",
   "execution_count": 59,
   "metadata": {},
   "outputs": [
    {
     "data": {
      "image/png": "[encoded data removed]",
      "text/plain": [
       "<Figure size 432x288 with 1 Axes>"
      ]
     },
     "metadata": {
      "needs_background": "light"
     },
     "output_type": "display_data"
    }
   ],
   "source": [
    "ultimate_test()"
   ]
  },
  {
   "cell_type": "code",
   "execution_count": 42,
   "metadata": {},
   "outputs": [
    {
     "data": {
      "text/plain": [
       "(0, 5)"
      ]
     },
     "execution_count": 42,
     "metadata": {},
     "output_type": "execute_result"
    }
   ],
   "source": [
    "job_exe = JobExecution(0,5)\n",
    "job_exe.get_as_tuple()\n",
    "\n"
   ]
  }
 ],
 "metadata": {
  "kernelspec": {
   "display_name": "Python 3",
   "language": "python",
   "name": "python3"
  },
  "language_info": {
   "codemirror_mode": {
    "name": "ipython",
    "version": 3
   },
   "file_extension": ".py",
   "mimetype": "text/x-python",
   "name": "python",
   "nbconvert_exporter": "python",
   "pygments_lexer": "ipython3",
   "version": "3.8.5"
  }
 },
 "nbformat": 4,
 "nbformat_minor": 4
}
